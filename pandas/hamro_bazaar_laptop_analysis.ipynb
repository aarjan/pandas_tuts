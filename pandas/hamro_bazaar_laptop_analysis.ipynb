{
 "cells": [
  {
   "cell_type": "code",
   "execution_count": 5,
   "metadata": {
    "collapsed": true
   },
   "outputs": [],
   "source": [
    "%matplotlib inline"
   ]
  },
  {
   "cell_type": "code",
   "execution_count": 6,
   "metadata": {
    "scrolled": false
   },
   "outputs": [],
   "source": [
    "import pandas as pd\n",
    "import seaborn as sns\n",
    "import pandas_profiling"
   ]
  },
  {
   "cell_type": "code",
   "execution_count": 98,
   "metadata": {},
   "outputs": [],
   "source": [
    "laptops = pd.DataFrame.from_csv(\"../file.csv\")"
   ]
  },
  {
   "cell_type": "code",
   "execution_count": 99,
   "metadata": {
    "collapsed": true
   },
   "outputs": [],
   "source": [
    "import re"
   ]
  },
  {
   "cell_type": "code",
   "execution_count": 131,
   "metadata": {
    "collapsed": true
   },
   "outputs": [],
   "source": [
    "reg = re.compile(\".*i5\",re.IGNORECASE)"
   ]
  },
  {
   "cell_type": "code",
   "execution_count": 169,
   "metadata": {
    "scrolled": true
   },
   "outputs": [
    {
     "data": {
      "text/plain": [
       "['Hp I5 7th Gen,256gb Ssd,8gb Ram,2gb 940mx Nvidia Graphics',\n",
       " 'Macbook Pro Intel I5 Core',\n",
       " 'Dell I5',\n",
       " 'Lenovo G50 Laptop Offer Sale',\n",
       " 'Dell Studio Xps 1647',\n",
       " 'Like New Dell Latitude E7240 I5,4gb Ram,320gb Ssd Ultrabook On Sale',\n",
       " 'Lenovo Thinkpad Twist S230u I5 24gbssd+500gb Hd Twist 2 In 1 Laptop',\n",
       " 'Lenovo Thinkpad X240 And X230 Laptops On Sale',\n",
       " 'Macbook Pro (13 Inch)',\n",
       " 'Laptop On Sale(dell I5, 8gb Ram)',\n",
       " 'Lenovo Thinkpad Laptop Core I5 Like New',\n",
       " 'Macbook Air Sale',\n",
       " 'Hp Laptop',\n",
       " 'Hp I5 Laptop Urgent Sale',\n",
       " 'Toshiba E45t-a4300',\n",
       " 'Samsung Laptop',\n",
       " 'Urgent Sell :apple Macbook Air 10.11.6',\n",
       " 'Laptop Hp Elitebook 2540p',\n",
       " 'Dell Laptop On Sale',\n",
       " 'Dell I5',\n",
       " 'Hp I5 7th Gen,256gb Ssd,8gb Ram,2gb 940mx Nvidia Graphics',\n",
       " 'Dell I5 Laptop',\n",
       " 'Dell I5 Laptop',\n",
       " 'Like New I5 Laptops Few Pcs Remaining',\n",
       " 'Toshiba Satelite C660-1t9(core I5)in Hot Sale',\n",
       " 'Dell I5 4th Gen Touch 8gb Ram',\n",
       " 'Macbook Pro On Sale',\n",
       " 'Hp Core I5',\n",
       " 'Apple Macbook Pro',\n",
       " 'Hp I5 7th Gen,256gb Ssd,8gb Ram,2gb 940mx Nvidia Graphics',\n",
       " 'Dell I5 On Sale',\n",
       " 'Dwell Laptop',\n",
       " 'Hp Pavilion G4',\n",
       " 'Macbook Pro (retina, 13-inch, Early 2015)',\n",
       " 'Apple Macbook Pro (13-inch) (brand New Battery)',\n",
       " 'Hp Elitebook I5 Laptop',\n",
       " 'Hp Ko Laptop Exchange With Good Mobile',\n",
       " 'Dell 5559 I5 6th Gen 1 Tb Hdd, 8 Gb Ram, 4gb Intel Graphic',\n",
       " 'I5 Laptops On Sell Urgently',\n",
       " 'Dell Laptop Inspiron 5600',\n",
       " 'Dell Inspiron N5010 Core I5',\n",
       " 'Dell I5 Laptop Ultrabook',\n",
       " 'Hp Elitebook 8460w I5-2520m Laptop On Sale',\n",
       " 'Hp Pavilion 15 With 4gb 940 Mx Graphic 7th Generation',\n",
       " 'Urgent Sell',\n",
       " 'Hp 250 G5 Laptop Seal Pack From Usa.',\n",
       " 'Branded Lenovo Thinkpad X240 On Sale.',\n",
       " 'Macbook I5 8gb 256ssd 15\"',\n",
       " 'Dell 7559 Budget Gaming Laptop',\n",
       " 'Lenovo Thinkpad L440 I5 4th Gen. (some Issue)',\n",
       " 'Macbook Pro I5 Late-2011',\n",
       " 'Dell 5743 I5 Laptop',\n",
       " 'Dell Vostro I5 Laptop',\n",
       " 'Branded Laptop On Urgent Sale',\n",
       " 'Macbook Pro (13inch)',\n",
       " 'New Macbook Pro Retina 2015 16gb Ram 256ssd Hardrive',\n",
       " 'Mac Book Pro I5',\n",
       " 'Brand New Lenovo Ip 310 Laptops',\n",
       " 'Asus Laptop I5',\n",
       " 'Lenovo Ideapad 320',\n",
       " 'Macbook Pro 2011 On Sale',\n",
       " 'Macbook Pro 13 Inch',\n",
       " 'Lenovo Thinkpad E540 / 15inch',\n",
       " 'Dell Laptop Tu Bikrima In Damak',\n",
       " 'Mac Book Pro 2017',\n",
       " 'Dell 7567 I5 7th Gen, 1 Tb, 8gb Ram, 1050 Gtx 4gb',\n",
       " 'Lenovo Ideapad 110',\n",
       " 'Lenovo Y700 I5-6300hq, 8gb Ram, 1 Tb Gaming',\n",
       " 'Macbook Air (13.3 Inch) Early 2015',\n",
       " 'Acer Laptop']"
      ]
     },
     "execution_count": 169,
     "metadata": {},
     "output_type": "execute_result"
    }
   ],
   "source": [
    "[i for i,j in laptops.specs.items() if reg.match(j)]"
   ]
  },
  {
   "cell_type": "code",
   "execution_count": 176,
   "metadata": {
    "scrolled": true
   },
   "outputs": [
    {
     "data": {
      "text/plain": [
       "(Index(['Dell 5559 I7 6th Gen, 1tb, 8gb Ram, 4gb Graphic Intel',\n",
       "        'Hp I5 7th Gen,256gb Ssd,8gb Ram,2gb 940mx Nvidia Graphics',\n",
       "        'Hp Elitebook Core I7 Laptop Like New', 'Hp Laptop -i7', 'Dell Laptop',\n",
       "        'Macbook Pro Intel I5 Core', 'Dell I5',\n",
       "        'Brand New Hp I7 Gaming Laptop On Urgent Sale',\n",
       "        'Lenovo G50 Laptop Offer Sale', 'Dell Studio Xps 1647',\n",
       "        ...\n",
       "        'Various Brands Of Laptops Sales', 'Macbook Air Core2duo',\n",
       "        'Dell 7567 I5 7th Gen, 1 Tb, 8gb Ram, 1050 Gtx 4gb',\n",
       "        'Lenovo Ideapad 110',\n",
       "        'Dell Lattitude E7240 I7, 256 Ssd, 8 Gb Ram 12.3 Inch Laptop',\n",
       "        'Lenovo Y700 I5-6300hq, 8gb Ram, 1 Tb Gaming',\n",
       "        'Macbook Air (13.3 Inch) Early 2015', 'Acer Laptop',\n",
       "        'Dell Inspiron N4050 Laptop For Sell', 'Macbook Pro 13-inch'],\n",
       "       dtype='object', name='title', length=210), title\n",
       " Dell 5559 I7 6th Gen, 1tb, 8gb Ram, 4gb Graphic Intel                            Rs. 73,500 (Brand New)\n",
       " Hp I5 7th Gen,256gb Ssd,8gb Ram,2gb 940mx Nvidia Graphics                        Rs. 75,000 (Brand New)\n",
       " Hp Elitebook Core I7 Laptop Like New                                              Rs. 29,999 (Like New)\n",
       " Hp Laptop -i7                                                                     Rs. 26,000 (Like New)\n",
       " Dell Laptop                                                                                   Rs. 6,000\n",
       " Macbook Pro Intel I5 Core                                                             Rs. 53,500 (Used)\n",
       " Dell I5                                                                           Rs. 25,500 (Like New)\n",
       " Brand New Hp I7 Gaming Laptop On Urgent Sale                                     Rs. 35,000 (Brand New)\n",
       " Lenovo G50 Laptop Offer Sale                                                      Rs. 24,999 (Like New)\n",
       " Dell Studio Xps 1647                                                                  Rs. 15,000 (Used)\n",
       " Hp Mini Laptop                                                                         Rs. 7,000 (Used)\n",
       " I7 Macbook Pro                                                                        Rs. 70,000 (Used)\n",
       " Dell Laptop (few Problems)                                                             Rs. 6,000 (Used)\n",
       " Like New Dell Latitude E7240 I5,4gb Ram,320gb Ssd Ultrabook On Sale               Rs. 35,000 (Like New)\n",
       " Asus Rog G752vy Gaming Laptop                                                   Rs. 2,99,999 (Like New)\n",
       " Dell Laptop I3                                                                               Rs. 18,000\n",
       " Dell I7/1tb Hdd/8gb Ram/4gb Nvidia Geforce Boxpacked                                  Rs. 69,000 (Used)\n",
       " Lenovo Thinkpad Twist S230u I5 24gbssd+500gb Hd Twist 2 In 1 Laptop               Rs. 39,999 (Like New)\n",
       " Asus Laptop On Sell                                                                   Rs. 16,000 (Used)\n",
       " Lenovo Thinkpad X240 And X230 Laptops On Sale                                     Rs. 30,000 (Like New)\n",
       " Dell D630                                                                             Rs. 12,000 (Used)\n",
       " Asus Notebook X200ca                                                              Rs. 17,000 (Like New)\n",
       " Hp Elitebook Core I7 Laptop Like New                                                  Rs. 29,999 (Used)\n",
       " Dell 5559 I7 6th Gen, 1tb, 8gb Ram, 4gb Graphic Intel                            Rs. 73,500 (Brand New)\n",
       " Macbook Pro (13 Inch)                                                                 Rs. 65,000 (Used)\n",
       " Dell Laptop                                                                           Rs. 15,000 (Used)\n",
       " Laptop On Sale(dell I5, 8gb Ram)                                             Rs. 28,000 (Used) SOLD OUT\n",
       " Brand New Lenovo I7 6th Gen Laptop On Sale..                                     Rs. 63,500 (Brand New)\n",
       " Lenovo Thinkpad Laptop Core I5 Like New                                  Rs. 22,999 (Like New) SOLD OUT\n",
       " Hp Elitebook 8540p, Intel I7 Laptop On Sale                                       Rs. 26,999 (Like New)\n",
       "                                                                                      ...               \n",
       " Absolutely Mindblowing Offer Dell 7559 I7 4k 16gb Ram 4gb Gpu                         Rs. 87,000 (Used)\n",
       " Acer Aspire 4720                                                                      Rs. 13,000 (Used)\n",
       " Dell Laptop                                                                           Rs. 15,999 (Used)\n",
       " Brand New Dell Xps 15 9560                                                     Rs. 1,90,000 (Brand New)\n",
       " Lenovo G5080 I3 5th Gen - 4gb Ram - 500 Gb Hdd                                        Rs. 25,000 (Used)\n",
       " Macbook Pro 2011 On Sale                                                     Rs. 50,000 (Used) SOLD OUT\n",
       " Toshiba Core I7 Laptop Urgent Sale                                                    Rs. 35,000 (Used)\n",
       " Dell Hp541 Laptop For Sale                                                            Rs. 14,000 (Used)\n",
       " Dell Inspiron 3521 I3 3rd-gen                                                         Rs. 24,500 (Used)\n",
       " Macbook Pro 13 Inch                                                                          Rs. 85,000\n",
       " Lenovo Thinkpad E540 / 15inch                                                                Rs. 55,000\n",
       " Laptop Lenovo Mini                                                                    Rs. 13,500 (Used)\n",
       " Dell Laptop                                                                      Rs. 29,999 (Brand New)\n",
       " Hp Envy X360 M6 Convertible                                                       Rs. 65,000 (Like New)\n",
       " Lenovo G410 Laptop With Windows 10 Intel Pentium Dual Core                            Rs. 12,000 (Used)\n",
       " Dell Laptop Tu Bikrima In Damak                                                       Rs. 35,000 (Used)\n",
       " I7 Lenovo Brand New                                                              Rs. 47,000 (Brand New)\n",
       " Macbook Pro 2015 I7 With Original Box And Original Accessori           Rs. 1,35,000 (Like New) SOLD OUT\n",
       " Mac Book Pro 2017                                                              Rs. 1,80,000 (Brand New)\n",
       " Msi Wind U160mx - Notebook Laptop                                                 Rs. 14,000 (Like New)\n",
       " Various Brands Of Laptops Sales                                                              Rs. 20,000\n",
       " Macbook Air Core2duo                                                                  Rs. 24,000 (Used)\n",
       " Dell 7567 I5 7th Gen, 1 Tb, 8gb Ram, 1050 Gtx 4gb                              Rs. 1,05,000 (Brand New)\n",
       " Lenovo Ideapad 110                                                                Rs. 45,000 (Like New)\n",
       " Dell Lattitude E7240 I7, 256 Ssd, 8 Gb Ram 12.3 Inch Laptop                      Rs. 68,500 (Brand New)\n",
       " Lenovo Y700 I5-6300hq, 8gb Ram, 1 Tb Gaming                                       Rs. 70,000 (Like New)\n",
       " Macbook Air (13.3 Inch) Early 2015                                                           Rs. 80,000\n",
       " Acer Laptop                                                                           Rs. 20,000 (Used)\n",
       " Dell Inspiron N4050 Laptop For Sell                                                   Rs. 24,000 (Used)\n",
       " Macbook Pro 13-inch                                                      Rs. 45,000 (Like New) SOLD OUT\n",
       " Name: price, Length: 210, dtype: object)"
      ]
     },
     "execution_count": 176,
     "metadata": {},
     "output_type": "execute_result"
    }
   ],
   "source": [
    "laptops.index,laptops.price"
   ]
  },
  {
   "cell_type": "code",
   "execution_count": 115,
   "metadata": {
    "scrolled": true
   },
   "outputs": [
    {
     "data": {
      "text/plain": [
       "title\n",
       "Dell 5559 I7 6th Gen, 1tb, 8gb Ram, 4gb Graphic Intel                            Rs. 73,500 (Brand New)\n",
       "Hp I5 7th Gen,256gb Ssd,8gb Ram,2gb 940mx Nvidia Graphics                        Rs. 75,000 (Brand New)\n",
       "Hp Elitebook Core I7 Laptop Like New                                              Rs. 29,999 (Like New)\n",
       "Hp Laptop -i7                                                                     Rs. 26,000 (Like New)\n",
       "Dell Laptop                                                                                   Rs. 6,000\n",
       "Macbook Pro Intel I5 Core                                                             Rs. 53,500 (Used)\n",
       "Dell I5                                                                           Rs. 25,500 (Like New)\n",
       "Brand New Hp I7 Gaming Laptop On Urgent Sale                                     Rs. 35,000 (Brand New)\n",
       "Lenovo G50 Laptop Offer Sale                                                      Rs. 24,999 (Like New)\n",
       "Dell Studio Xps 1647                                                                  Rs. 15,000 (Used)\n",
       "Hp Mini Laptop                                                                         Rs. 7,000 (Used)\n",
       "I7 Macbook Pro                                                                        Rs. 70,000 (Used)\n",
       "Dell Laptop (few Problems)                                                             Rs. 6,000 (Used)\n",
       "Like New Dell Latitude E7240 I5,4gb Ram,320gb Ssd Ultrabook On Sale               Rs. 35,000 (Like New)\n",
       "Asus Rog G752vy Gaming Laptop                                                   Rs. 2,99,999 (Like New)\n",
       "Dell Laptop I3                                                                               Rs. 18,000\n",
       "Dell I7/1tb Hdd/8gb Ram/4gb Nvidia Geforce Boxpacked                                  Rs. 69,000 (Used)\n",
       "Lenovo Thinkpad Twist S230u I5 24gbssd+500gb Hd Twist 2 In 1 Laptop               Rs. 39,999 (Like New)\n",
       "Asus Laptop On Sell                                                                   Rs. 16,000 (Used)\n",
       "Lenovo Thinkpad X240 And X230 Laptops On Sale                                     Rs. 30,000 (Like New)\n",
       "Dell D630                                                                             Rs. 12,000 (Used)\n",
       "Asus Notebook X200ca                                                              Rs. 17,000 (Like New)\n",
       "Hp Elitebook Core I7 Laptop Like New                                                  Rs. 29,999 (Used)\n",
       "Dell 5559 I7 6th Gen, 1tb, 8gb Ram, 4gb Graphic Intel                            Rs. 73,500 (Brand New)\n",
       "Macbook Pro (13 Inch)                                                                 Rs. 65,000 (Used)\n",
       "Dell Laptop                                                                           Rs. 15,000 (Used)\n",
       "Laptop On Sale(dell I5, 8gb Ram)                                             Rs. 28,000 (Used) SOLD OUT\n",
       "Brand New Lenovo I7 6th Gen Laptop On Sale..                                     Rs. 63,500 (Brand New)\n",
       "Lenovo Thinkpad Laptop Core I5 Like New                                  Rs. 22,999 (Like New) SOLD OUT\n",
       "Hp Elitebook 8540p, Intel I7 Laptop On Sale                                       Rs. 26,999 (Like New)\n",
       "                                                                                     ...               \n",
       "Absolutely Mindblowing Offer Dell 7559 I7 4k 16gb Ram 4gb Gpu                         Rs. 87,000 (Used)\n",
       "Acer Aspire 4720                                                                      Rs. 13,000 (Used)\n",
       "Dell Laptop                                                                           Rs. 15,999 (Used)\n",
       "Brand New Dell Xps 15 9560                                                     Rs. 1,90,000 (Brand New)\n",
       "Lenovo G5080 I3 5th Gen - 4gb Ram - 500 Gb Hdd                                        Rs. 25,000 (Used)\n",
       "Macbook Pro 2011 On Sale                                                     Rs. 50,000 (Used) SOLD OUT\n",
       "Toshiba Core I7 Laptop Urgent Sale                                                    Rs. 35,000 (Used)\n",
       "Dell Hp541 Laptop For Sale                                                            Rs. 14,000 (Used)\n",
       "Dell Inspiron 3521 I3 3rd-gen                                                         Rs. 24,500 (Used)\n",
       "Macbook Pro 13 Inch                                                                          Rs. 85,000\n",
       "Lenovo Thinkpad E540 / 15inch                                                                Rs. 55,000\n",
       "Laptop Lenovo Mini                                                                    Rs. 13,500 (Used)\n",
       "Dell Laptop                                                                      Rs. 29,999 (Brand New)\n",
       "Hp Envy X360 M6 Convertible                                                       Rs. 65,000 (Like New)\n",
       "Lenovo G410 Laptop With Windows 10 Intel Pentium Dual Core                            Rs. 12,000 (Used)\n",
       "Dell Laptop Tu Bikrima In Damak                                                       Rs. 35,000 (Used)\n",
       "I7 Lenovo Brand New                                                              Rs. 47,000 (Brand New)\n",
       "Macbook Pro 2015 I7 With Original Box And Original Accessori           Rs. 1,35,000 (Like New) SOLD OUT\n",
       "Mac Book Pro 2017                                                              Rs. 1,80,000 (Brand New)\n",
       "Msi Wind U160mx - Notebook Laptop                                                 Rs. 14,000 (Like New)\n",
       "Various Brands Of Laptops Sales                                                              Rs. 20,000\n",
       "Macbook Air Core2duo                                                                  Rs. 24,000 (Used)\n",
       "Dell 7567 I5 7th Gen, 1 Tb, 8gb Ram, 1050 Gtx 4gb                              Rs. 1,05,000 (Brand New)\n",
       "Lenovo Ideapad 110                                                                Rs. 45,000 (Like New)\n",
       "Dell Lattitude E7240 I7, 256 Ssd, 8 Gb Ram 12.3 Inch Laptop                      Rs. 68,500 (Brand New)\n",
       "Lenovo Y700 I5-6300hq, 8gb Ram, 1 Tb Gaming                                       Rs. 70,000 (Like New)\n",
       "Macbook Air (13.3 Inch) Early 2015                                                           Rs. 80,000\n",
       "Acer Laptop                                                                           Rs. 20,000 (Used)\n",
       "Dell Inspiron N4050 Laptop For Sell                                                   Rs. 24,000 (Used)\n",
       "Macbook Pro 13-inch                                                      Rs. 45,000 (Like New) SOLD OUT\n",
       "Name: price, Length: 210, dtype: object"
      ]
     },
     "execution_count": 115,
     "metadata": {},
     "output_type": "execute_result"
    }
   ],
   "source": [
    "laptops.price"
   ]
  },
  {
   "cell_type": "code",
   "execution_count": null,
   "metadata": {
    "collapsed": true
   },
   "outputs": [],
   "source": []
  }
 ],
 "metadata": {
  "kernelspec": {
   "display_name": "Python 3",
   "language": "python",
   "name": "python3"
  },
  "language_info": {
   "codemirror_mode": {
    "name": "ipython",
    "version": 3
   },
   "file_extension": ".py",
   "mimetype": "text/x-python",
   "name": "python",
   "nbconvert_exporter": "python",
   "pygments_lexer": "ipython3",
   "version": "3.6.3"
  }
 },
 "nbformat": 4,
 "nbformat_minor": 2
}
