{
 "cells": [
  {
   "cell_type": "markdown",
   "metadata": {},
   "source": [
    "## Scopes and Namespaces"
   ]
  },
  {
   "cell_type": "code",
   "execution_count": 14,
   "metadata": {},
   "outputs": [
    {
     "name": "stdout",
     "output_type": "stream",
     "text": [
      "After local assignment: test spam\n",
      "After nonlocal assigment: non local spam\n",
      "After global assignment: non local spam\n",
      "In global scope: global spam\n"
     ]
    }
   ],
   "source": [
    "def scope_test():\n",
    "    def do_local():\n",
    "        spam = \"local spam\"\n",
    "    def do_nonlocal():\n",
    "        nonlocal spam\n",
    "        spam = 'non local spam'\n",
    "    def do_global():\n",
    "        global spam\n",
    "        spam = 'global spam'\n",
    "    \n",
    "    spam = 'test spam'\n",
    "    do_local()\n",
    "    print(\"After local assignment:\",spam)\n",
    "    do_nonlocal()\n",
    "    print('After nonlocal assigment:',spam)\n",
    "    do_global()\n",
    "    print('After global assignment:',spam)\n",
    "\n",
    "scope_test()\n",
    "print('In global scope:',spam)\n",
    "    "
   ]
  },
  {
   "cell_type": "markdown",
   "metadata": {},
   "source": [
    "See how, the \n",
    "- local assignment inside the function do_local, doesnot change the spam variable.\n",
    "- non local assigment inside the non_local function changes the spam variable outside it's local scope, into scope_test's binding of spam\n",
    "- global assigment changes the variable globally in the module-level binding"
   ]
  },
  {
   "cell_type": "markdown",
   "metadata": {},
   "source": [
    "### Class Objects"
   ]
  },
  {
   "cell_type": "markdown",
   "metadata": {},
   "source": [
    "Class objects support two kinds of operations: attribute references and instantiation.\n",
    "\n",
    "Valid attribute refrences are all the names that were in the class's namespace when the class was created."
   ]
  },
  {
   "cell_type": "code",
   "execution_count": 15,
   "metadata": {
    "collapsed": true
   },
   "outputs": [],
   "source": [
    "class MyClass:\n",
    "    \"\"\"An example class\"\"\"\n",
    "    i =1223\n",
    "    def f(self):\n",
    "        return 'Hey, Man!'"
   ]
  },
  {
   "cell_type": "markdown",
   "metadata": {},
   "source": [
    "MyClass.i and MyClass.f are valid attributes.  \n",
    "MyClass.\\__doc\\__ is also a valid attribute returning docstring of that class."
   ]
  },
  {
   "cell_type": "markdown",
   "metadata": {},
   "source": [
    "When a class defines an \\__init\\__() method, class instantiation automatically invokes \\__init\\__() for the newly-created class instance. \n",
    "``` \n",
    "    def __init__(self):\n",
    "        self.data = []\n",
    "```\n"
   ]
  },
  {
   "cell_type": "code",
   "execution_count": 38,
   "metadata": {
    "collapsed": true
   },
   "outputs": [],
   "source": [
    "class MyClass:\n",
    "    \"\"\"An example class\"\"\"\n",
    "    i =1223\n",
    "    \n",
    "    def __init__(self,i):\n",
    "        self.i = i\n",
    "    def f(self):\n",
    "        return 'Hey, Man!'\n",
    "    "
   ]
  },
  {
   "cell_type": "code",
   "execution_count": 42,
   "metadata": {},
   "outputs": [],
   "source": [
    "# Empty class instantiation\n",
    "x=MyClass"
   ]
  },
  {
   "cell_type": "code",
   "execution_count": 43,
   "metadata": {},
   "outputs": [
    {
     "data": {
      "text/plain": [
       "1223"
      ]
     },
     "execution_count": 43,
     "metadata": {},
     "output_type": "execute_result"
    }
   ],
   "source": [
    "x.i"
   ]
  },
  {
   "cell_type": "code",
   "execution_count": 44,
   "metadata": {
    "collapsed": true
   },
   "outputs": [],
   "source": [
    "# Class instantiation using contructers\n",
    "x = MyClass(4)"
   ]
  },
  {
   "cell_type": "code",
   "execution_count": 47,
   "metadata": {},
   "outputs": [
    {
     "data": {
      "text/plain": [
       "4"
      ]
     },
     "execution_count": 47,
     "metadata": {},
     "output_type": "execute_result"
    }
   ],
   "source": [
    "x.i"
   ]
  },
  {
   "cell_type": "markdown",
   "metadata": {},
   "source": [
    "### Class and instance variables"
   ]
  },
  {
   "cell_type": "code",
   "execution_count": 50,
   "metadata": {
    "collapsed": true
   },
   "outputs": [],
   "source": [
    "class Dog:\n",
    "    kind = 'canine'   # class variable shared by all instances\n",
    "    \n",
    "    def __init__(self,name):\n",
    "        self.name = name   # instance variable unique to each instance\n",
    "\n",
    "d = Dog('Fido')\n",
    "e = Dog('Bruno')"
   ]
  },
  {
   "cell_type": "code",
   "execution_count": 52,
   "metadata": {},
   "outputs": [
    {
     "data": {
      "text/plain": [
       "('canine', 'canine')"
      ]
     },
     "execution_count": 52,
     "metadata": {},
     "output_type": "execute_result"
    }
   ],
   "source": [
    "d.kind,e.kind   # shared by all dogs"
   ]
  },
  {
   "cell_type": "code",
   "execution_count": 53,
   "metadata": {},
   "outputs": [
    {
     "data": {
      "text/plain": [
       "('Fido', 'Bruno')"
      ]
     },
     "execution_count": 53,
     "metadata": {},
     "output_type": "execute_result"
    }
   ],
   "source": [
    "d.name,e.name   # unique to each dog"
   ]
  },
  {
   "cell_type": "markdown",
   "metadata": {},
   "source": [
    "Methods may call other methods by using method attribute of self argument."
   ]
  },
  {
   "cell_type": "code",
   "execution_count": 54,
   "metadata": {
    "collapsed": true
   },
   "outputs": [],
   "source": [
    "class Inventory:\n",
    "    def __init__(self):\n",
    "        self.data = []         # instance variable, 'data'\n",
    "    \n",
    "    def add(self,x):           # method, 'add'\n",
    "        self.data.append(x)    # access object variable\n",
    "    \n",
    "    def add_twice(self,x):     # method, 'add_twice'\n",
    "        self.add(x)            # call class method, 'add'\n",
    "        self.add(x)"
   ]
  },
  {
   "cell_type": "code",
   "execution_count": 57,
   "metadata": {},
   "outputs": [
    {
     "data": {
      "text/plain": [
       "['nail_cutter', 'polish', 'polish']"
      ]
     },
     "execution_count": 57,
     "metadata": {},
     "output_type": "execute_result"
    }
   ],
   "source": [
    "i = Inventory()\n",
    "i.add('nail_cutter')\n",
    "i.add_twice('polish')\n",
    "i.data"
   ]
  },
  {
   "cell_type": "code",
   "execution_count": 58,
   "metadata": {
    "collapsed": true
   },
   "outputs": [],
   "source": [
    "i2 = Inventory()\n",
    "i2.add_twice('dish_washer')"
   ]
  },
  {
   "cell_type": "code",
   "execution_count": 59,
   "metadata": {},
   "outputs": [
    {
     "data": {
      "text/plain": [
       "['dish_washer', 'dish_washer']"
      ]
     },
     "execution_count": 59,
     "metadata": {},
     "output_type": "execute_result"
    }
   ],
   "source": [
    "i2.data"
   ]
  },
  {
   "cell_type": "markdown",
   "metadata": {},
   "source": [
    "Each value is an object, and therefore has a class (also called its type). It is stored as object.\\__class\\__."
   ]
  },
  {
   "cell_type": "code",
   "execution_count": 62,
   "metadata": {},
   "outputs": [
    {
     "data": {
      "text/plain": [
       "__main__.Inventory"
      ]
     },
     "execution_count": 62,
     "metadata": {},
     "output_type": "execute_result"
    }
   ],
   "source": [
    "i2.__class__"
   ]
  },
  {
   "cell_type": "markdown",
   "metadata": {},
   "source": [
    "## Inheritance"
   ]
  },
  {
   "cell_type": "markdown",
   "metadata": {},
   "source": [
    "Derived classes may override methods of their base classes.  \n",
    "A simple way to call the base class method directly: just call BaseClassName.methodname(self, arguments).   \n",
    "\n",
    "Python has two built-in functions that work with inheritance:\n",
    "\n",
    "- Use __isinstance()__ to check an instance’s type: isinstance(obj, int) will be True only if obj.\\__class\\__ is int or some class derived from int.\n",
    "\n",
    "- Use __issubclass()__ to check class inheritance: issubclass(bool, int) is True since bool is a subclass of int. However, issubclass(float, int) is False since float is not a subclass of int."
   ]
  },
  {
   "cell_type": "markdown",
   "metadata": {},
   "source": [
    "### Multiple inheritance\n",
    "```class DerivedClassName(Base1, Base2, Base3):\n",
    "    <statement-1>\n",
    "    .\n",
    "    .\n",
    "    .\n",
    "    <statement-N>\n",
    "```  \n",
    "For most purposes, in the simplest cases, you can think of the search for attributes inherited from a parent class as __depth-first, left-to-right__, not searching twice in the same class where there is an overlap in the hierarchy. Thus, if an attribute is not found in DerivedClassName, it is searched for in Base1, then (recursively) in the base classes of Base1, and if it was not found there, it was searched for in Base2, and so on.\n",
    "\n"
   ]
  },
  {
   "cell_type": "markdown",
   "metadata": {},
   "source": [
    "### Private Variables\n",
    "“Private” instance variables that cannot be accessed except from inside an object don’t exist in Python.   \n",
    "However, there is a convention that is followed by most Python code: a name prefixed with an underscore (e.g. _spam) should be treated as a non-public part of the API (whether it is a function, a method or a data member).   \n",
    "\n",
    "It should be considered an implementation detail and subject to change without notice.\n"
   ]
  },
  {
   "cell_type": "code",
   "execution_count": 64,
   "metadata": {},
   "outputs": [],
   "source": [
    "class Mapping:\n",
    "    def __init__(self,iterable):\n",
    "        self.items_list = []\n",
    "        self.__update(iterable)\n",
    "    \n",
    "    def update(self,iterable):\n",
    "        for item in iterable:\n",
    "            self.items_list.append(item)\n",
    "    \n",
    "    __update = update   # private copy  of the orginal update() method\n",
    "\n",
    "class MappingSubClass(Mapping):\n",
    "    \n",
    "    def update(self,keys,values):\n",
    "        # provides new signature for update()\n",
    "        # but does not break __init__() \n",
    "        for item in zip(keys,values):\n",
    "            self.items_list.append(item)\n",
    "            \n"
   ]
  },
  {
   "cell_type": "code",
   "execution_count": 66,
   "metadata": {},
   "outputs": [],
   "source": [
    "m = Mapping"
   ]
  },
  {
   "cell_type": "markdown",
   "metadata": {},
   "source": [
    "### Iterators"
   ]
  },
  {
   "cell_type": "code",
   "execution_count": 73,
   "metadata": {},
   "outputs": [
    {
     "name": "stdout",
     "output_type": "stream",
     "text": [
      "1\n",
      "2\n",
      "3\n",
      "1\n",
      "2\n",
      "3\n",
      "one\n",
      "two\n",
      "a\n",
      "b\n",
      "c\n",
      "def fib(n):\n",
      "\tx,y = 0,1\n",
      "\twhile y < n:\n",
      "\t\tprint(y,end=' ')\n",
      "\t\tx,y = y,x+y\n",
      "\tprint()\n",
      "\n",
      "def fib2(n):\n",
      "\tresult = []\n",
      "\tx,y = 0,1\n",
      "\twhile y < n:\n",
      "\t\tresult.append(y)\n",
      "\t\tx,y = y,x+y\n",
      "\treturn result\n",
      "\n",
      "if __name__ == \"__main__\":\n",
      "    import sys\n",
      "    fib2(int(sys.argv[1]))\n"
     ]
    }
   ],
   "source": [
    "# As most container objects can be looped using for loop\n",
    "for element in [1,2,3]:\n",
    "    print(element)\n",
    "for element in (1,2,3):\n",
    "    print(element)\n",
    "for keys in {'one':1,'two':2}:\n",
    "    print(keys)\n",
    "for char in 'abc':\n",
    "    print(char)\n",
    "for line in open('fibo.py'):\n",
    "    print(line,end='')"
   ]
  },
  {
   "cell_type": "markdown",
   "metadata": {},
   "source": [
    "Behind the scenes, the for statement calls iter() on the container object.   \n",
    "The function returns an iterable object that defines the method \\__next()\\__ which access the elements in the container one at a time.  \n",
    "When there are no more elements, \\__next()\\__ raises a StopIteration exception which tells the for loop to terminate."
   ]
  },
  {
   "cell_type": "code",
   "execution_count": 84,
   "metadata": {},
   "outputs": [
    {
     "data": {
      "text/plain": [
       "<str_iterator at 0x7f55e032ea90>"
      ]
     },
     "execution_count": 84,
     "metadata": {},
     "output_type": "execute_result"
    }
   ],
   "source": [
    "s = 'abc'\n",
    "it = iter(s)\n",
    "it"
   ]
  },
  {
   "cell_type": "code",
   "execution_count": 85,
   "metadata": {},
   "outputs": [
    {
     "data": {
      "text/plain": [
       "('a', 'b', 'c')"
      ]
     },
     "execution_count": 85,
     "metadata": {},
     "output_type": "execute_result"
    }
   ],
   "source": [
    "next(it),next(it),next(it)"
   ]
  },
  {
   "cell_type": "code",
   "execution_count": 86,
   "metadata": {},
   "outputs": [
    {
     "ename": "StopIteration",
     "evalue": "",
     "output_type": "error",
     "traceback": [
      "\u001b[0;31m---------------------------------------------------------------------------\u001b[0m",
      "\u001b[0;31mStopIteration\u001b[0m                             Traceback (most recent call last)",
      "\u001b[0;32m<ipython-input-86-2cdb14c0d4d6>\u001b[0m in \u001b[0;36m<module>\u001b[0;34m()\u001b[0m\n\u001b[0;32m----> 1\u001b[0;31m \u001b[0mnext\u001b[0m\u001b[0;34m(\u001b[0m\u001b[0mit\u001b[0m\u001b[0;34m)\u001b[0m\u001b[0;34m\u001b[0m\u001b[0m\n\u001b[0m",
      "\u001b[0;31mStopIteration\u001b[0m: "
     ]
    }
   ],
   "source": [
    "next(it)"
   ]
  },
  {
   "cell_type": "markdown",
   "metadata": {},
   "source": [
    "Having seen the mechanincs of iterator, you can add iterator behavior to your classes. \n",
    "Define an \\__iter\\__() method that returns a \\__next\\__() method.  \n",
    "If the class defines \\__next\\__() method, then \\__iter\\__() can return self."
   ]
  },
  {
   "cell_type": "code",
   "execution_count": 189,
   "metadata": {},
   "outputs": [],
   "source": [
    "class Reverse:\n",
    "    \"\"\"Iterator for looping over a sequence backwards\"\"\"\n",
    "    \n",
    "    def __init__(self,data):\n",
    "        self.data = data\n",
    "        self.index = len(data)\n",
    "    \n",
    "    def __iter__(self):\n",
    "        return self\n",
    "    \n",
    "    def __next__(self):\n",
    "        if self.index ==0:\n",
    "            raise StopIteration\n",
    "        self.index-=1\n",
    "        return self.data[self.index]"
   ]
  },
  {
   "cell_type": "code",
   "execution_count": 190,
   "metadata": {
    "collapsed": true
   },
   "outputs": [],
   "source": [
    "rev = Reverse([1,2,3,4])"
   ]
  },
  {
   "cell_type": "code",
   "execution_count": 191,
   "metadata": {},
   "outputs": [
    {
     "data": {
      "text/plain": [
       "<__main__.Reverse at 0x7f55e032e6a0>"
      ]
     },
     "execution_count": 191,
     "metadata": {},
     "output_type": "execute_result"
    }
   ],
   "source": [
    "iter(rev)"
   ]
  },
  {
   "cell_type": "code",
   "execution_count": 192,
   "metadata": {},
   "outputs": [
    {
     "name": "stdout",
     "output_type": "stream",
     "text": [
      "4\n",
      "3\n",
      "2\n",
      "1\n"
     ]
    }
   ],
   "source": [
    "for char in rev:\n",
    "    print(char)"
   ]
  },
  {
   "cell_type": "markdown",
   "metadata": {},
   "source": [
    "### Generators"
   ]
  },
  {
   "cell_type": "markdown",
   "metadata": {},
   "source": [
    "Generators are a simple and powerful tool for creating iterators.   \n",
    "They are written like regular functions but use the yield statement whenever they want to return data.  \n",
    "Each time next() is called on it, the generator resumes where it left off (it remembers all the data values and which statement was last executed). "
   ]
  },
  {
   "cell_type": "code",
   "execution_count": 212,
   "metadata": {},
   "outputs": [],
   "source": [
    "def reverse(data):\n",
    "    for index in range(len(data)-1,-1,-1):\n",
    "        yield data[index]"
   ]
  },
  {
   "cell_type": "code",
   "execution_count": 219,
   "metadata": {},
   "outputs": [
    {
     "data": {
      "text/plain": [
       "<generator object reverse at 0x7f55e036c150>"
      ]
     },
     "execution_count": 219,
     "metadata": {},
     "output_type": "execute_result"
    }
   ],
   "source": [
    "reverse([1,2,3,4])"
   ]
  },
  {
   "cell_type": "code",
   "execution_count": 217,
   "metadata": {},
   "outputs": [
    {
     "name": "stdout",
     "output_type": "stream",
     "text": [
      "f\n",
      "l\n",
      "o\n",
      "g\n"
     ]
    }
   ],
   "source": [
    "for char in reverse('golf'):\n",
    "    print(char)"
   ]
  },
  {
   "cell_type": "markdown",
   "metadata": {},
   "source": [
    "What makes generators more compact is that the \\__iter\\__() and \\__next\\__() method are created automatically.\n",
    "Also, the local variables and execution state are saved automatically between calls.\n",
    "It raises the StopIteration exception on termination."
   ]
  },
  {
   "cell_type": "markdown",
   "metadata": {},
   "source": [
    "#### Generator Expressions\n",
    "Generator expressions are more compact but less versatile than full generator definations, and tend to be more __memory friendly__ than list comprehensions.  \n",
    "\n",
    "These expressions are designed for situations where the generator is used right away by an __enclosing function.__  \n",
    "Expression is similar to that of list comprehension, but with parenthesis instead of brackets."
   ]
  },
  {
   "cell_type": "code",
   "execution_count": 242,
   "metadata": {},
   "outputs": [
    {
     "data": {
      "text/plain": [
       "30"
      ]
     },
     "execution_count": 242,
     "metadata": {},
     "output_type": "execute_result"
    }
   ],
   "source": [
    "sum((i*i for i in range(5)))"
   ]
  },
  {
   "cell_type": "code",
   "execution_count": 244,
   "metadata": {},
   "outputs": [
    {
     "data": {
      "text/plain": [
       "150"
      ]
     },
     "execution_count": 244,
     "metadata": {},
     "output_type": "execute_result"
    }
   ],
   "source": [
    "xvect = [1,2,3,4]\n",
    "yvect = [5,10,15,20]\n",
    "sum((x*y for x,y in zip(xvect,yvect)))"
   ]
  },
  {
   "cell_type": "code",
   "execution_count": 236,
   "metadata": {},
   "outputs": [],
   "source": [
    "from math import pi,sin"
   ]
  },
  {
   "cell_type": "code",
   "execution_count": 237,
   "metadata": {
    "collapsed": true
   },
   "outputs": [],
   "source": [
    "sine_table = {x:sin(x*pi/180) for x in range(0,91)}\n"
   ]
  },
  {
   "cell_type": "code",
   "execution_count": 238,
   "metadata": {},
   "outputs": [
    {
     "data": {
      "text/plain": [
       "{0: 0.0,\n",
       " 1: 0.01745240643728351,\n",
       " 2: 0.03489949670250097,\n",
       " 3: 0.05233595624294383,\n",
       " 4: 0.0697564737441253,\n",
       " 5: 0.08715574274765817,\n",
       " 6: 0.10452846326765346,\n",
       " 7: 0.12186934340514748,\n",
       " 8: 0.13917310096006544,\n",
       " 9: 0.15643446504023087,\n",
       " 10: 0.17364817766693033,\n",
       " 11: 0.1908089953765448,\n",
       " 12: 0.20791169081775931,\n",
       " 13: 0.224951054343865,\n",
       " 14: 0.24192189559966773,\n",
       " 15: 0.25881904510252074,\n",
       " 16: 0.27563735581699916,\n",
       " 17: 0.29237170472273677,\n",
       " 18: 0.3090169943749474,\n",
       " 19: 0.32556815445715664,\n",
       " 20: 0.3420201433256687,\n",
       " 21: 0.35836794954530027,\n",
       " 22: 0.374606593415912,\n",
       " 23: 0.3907311284892737,\n",
       " 24: 0.40673664307580015,\n",
       " 25: 0.42261826174069944,\n",
       " 26: 0.4383711467890774,\n",
       " 27: 0.45399049973954675,\n",
       " 28: 0.4694715627858908,\n",
       " 29: 0.48480962024633706,\n",
       " 30: 0.49999999999999994,\n",
       " 31: 0.5150380749100542,\n",
       " 32: 0.5299192642332049,\n",
       " 33: 0.5446390350150271,\n",
       " 34: 0.5591929034707469,\n",
       " 35: 0.573576436351046,\n",
       " 36: 0.5877852522924731,\n",
       " 37: 0.6018150231520483,\n",
       " 38: 0.6156614753256582,\n",
       " 39: 0.6293203910498374,\n",
       " 40: 0.6427876096865393,\n",
       " 41: 0.6560590289905072,\n",
       " 42: 0.6691306063588582,\n",
       " 43: 0.6819983600624985,\n",
       " 44: 0.6946583704589973,\n",
       " 45: 0.7071067811865475,\n",
       " 46: 0.7193398003386511,\n",
       " 47: 0.7313537016191705,\n",
       " 48: 0.7431448254773941,\n",
       " 49: 0.754709580222772,\n",
       " 50: 0.766044443118978,\n",
       " 51: 0.7771459614569708,\n",
       " 52: 0.788010753606722,\n",
       " 53: 0.7986355100472928,\n",
       " 54: 0.8090169943749475,\n",
       " 55: 0.8191520442889918,\n",
       " 56: 0.8290375725550417,\n",
       " 57: 0.8386705679454239,\n",
       " 58: 0.848048096156426,\n",
       " 59: 0.8571673007021122,\n",
       " 60: 0.8660254037844386,\n",
       " 61: 0.8746197071393957,\n",
       " 62: 0.8829475928589269,\n",
       " 63: 0.8910065241883678,\n",
       " 64: 0.898794046299167,\n",
       " 65: 0.9063077870366499,\n",
       " 66: 0.9135454576426009,\n",
       " 67: 0.9205048534524403,\n",
       " 68: 0.9271838545667874,\n",
       " 69: 0.9335804264972017,\n",
       " 70: 0.9396926207859083,\n",
       " 71: 0.9455185755993167,\n",
       " 72: 0.9510565162951535,\n",
       " 73: 0.9563047559630354,\n",
       " 74: 0.9612616959383189,\n",
       " 75: 0.9659258262890683,\n",
       " 76: 0.9702957262759965,\n",
       " 77: 0.9743700647852352,\n",
       " 78: 0.9781476007338056,\n",
       " 79: 0.981627183447664,\n",
       " 80: 0.984807753012208,\n",
       " 81: 0.9876883405951378,\n",
       " 82: 0.9902680687415703,\n",
       " 83: 0.992546151641322,\n",
       " 84: 0.9945218953682733,\n",
       " 85: 0.9961946980917455,\n",
       " 86: 0.9975640502598242,\n",
       " 87: 0.9986295347545738,\n",
       " 88: 0.9993908270190958,\n",
       " 89: 0.9998476951563913,\n",
       " 90: 1.0}"
      ]
     },
     "execution_count": 238,
     "metadata": {},
     "output_type": "execute_result"
    }
   ],
   "source": [
    "unique_words = "
   ]
  },
  {
   "cell_type": "code",
   "execution_count": null,
   "metadata": {
    "collapsed": true
   },
   "outputs": [],
   "source": []
  }
 ],
 "metadata": {
  "kernelspec": {
   "display_name": "Python 3",
   "language": "python",
   "name": "python3"
  },
  "language_info": {
   "codemirror_mode": {
    "name": "ipython",
    "version": 3
   },
   "file_extension": ".py",
   "mimetype": "text/x-python",
   "name": "python",
   "nbconvert_exporter": "python",
   "pygments_lexer": "ipython3",
   "version": "3.6.3"
  }
 },
 "nbformat": 4,
 "nbformat_minor": 2
}
