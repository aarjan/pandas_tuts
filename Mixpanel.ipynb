{
 "cells": [
  {
   "cell_type": "code",
   "execution_count": 6,
   "metadata": {},
   "outputs": [],
   "source": [
    "import json"
   ]
  },
  {
   "cell_type": "code",
   "execution_count": 23,
   "metadata": {},
   "outputs": [
    {
     "name": "stdout",
     "output_type": "stream",
     "text": [
      "63\n"
     ]
    }
   ],
   "source": [
    "record = {}\n",
    "record_list = []\n",
    "\n",
    "'''\n",
    "    Read json data line by line\n",
    "    Get unique key/value pairs of each event logs\n",
    "'''\n",
    "with open('mixpanel_export.json') as f:\n",
    "    lines = f.readlines()\n",
    "    for l in lines:\n",
    "        d = json.loads(l)\n",
    "        event_name = d['event']\n",
    "        if event_name not in record:\n",
    "            record[event_name] = {}\n",
    "        for key,value in d['properties'].items():\n",
    "            record[event_name][key] = value\n",
    "        \n",
    "'''\n",
    "    Refactor some values.\n",
    "    Returns a list of event logs.\n",
    "'''\n",
    "for key,value in record.items():\n",
    "    temp = value['time']\n",
    "    \n",
    "#     discard values\n",
    "    value.pop('time')\n",
    "    \n",
    "    value['timestamp'] = temp\n",
    "    record_list.append({\"event\":key,\"properties\":value})\n",
    "        \n",
    "with open('formatted_data.json','w') as outfile:\n",
    "    json.dump(record_list,outfile)\n"
   ]
  },
  {
   "cell_type": "code",
   "execution_count": null,
   "metadata": {},
   "outputs": [],
   "source": [
    "for list in list_data:\n",
    "    list_data[list] = set(list_data[list])"
   ]
  },
  {
   "cell_type": "code",
   "execution_count": 12,
   "metadata": {},
   "outputs": [],
   "source": []
  },
  {
   "cell_type": "code",
   "execution_count": 7,
   "metadata": {},
   "outputs": [],
   "source": [
    "dd = []\n",
    "with open('dam.json') as f:\n",
    "    lines = f.readlines()\n",
    "    for l in lines:\n",
    "        d = json.loads(l)\n",
    "        bb = {\"event\":\"\",\"properties\":{}}\n",
    "        bb['event'] = d['event']\n",
    "        for key,value in d['properties'].items():\n",
    "            bb['properties'][key] = value\n",
    "        dd.append(bb)"
   ]
  },
  {
   "cell_type": "code",
   "execution_count": 8,
   "metadata": {},
   "outputs": [
    {
     "data": {
      "text/plain": [
       "[{'event': 'download_document',\n",
       "  'properties': {'$city': 'Petaẖ Tiqwa',\n",
       "   '$import': True,\n",
       "   '$region': 'Central District',\n",
       "   'distinct_id': 'gilix26@gmail.com',\n",
       "   'doctype_id': '5641c992592090b738bad3e9',\n",
       "   'doctype_title': 'UPLOAD AND SIGN',\n",
       "   'document_id': '5a4299a162818e05008e71cd',\n",
       "   'document_state': 'signing',\n",
       "   'hostname': 'dl-server-769955f5-ttnsx',\n",
       "   'mp_country_code': 'IL',\n",
       "   'msg': 'Document rendering Success',\n",
       "   'render_type': 'html',\n",
       "   'source': 'Elasticsearch',\n",
       "   'time': 1514778354,\n",
       "   'user_id': '56b0de9c68b69c30485739e1'}},\n",
       " {'event': 'upload_signature',\n",
       "  'properties': {'$city': 'Petaẖ Tiqwa',\n",
       "   '$import': True,\n",
       "   '$region': 'Central District',\n",
       "   'distinct_id': 'gilix26@gmail.com',\n",
       "   'id_requested': '56b0de9c68b69c30485739e1',\n",
       "   'mp_country_code': 'IL',\n",
       "   'msg': 'User upload signature',\n",
       "   'source': 'Elasticsearch',\n",
       "   'time': 1514778360}},\n",
       " {'event': 'download_document',\n",
       "  'properties': {'$city': 'Petaẖ Tiqwa',\n",
       "   '$import': True,\n",
       "   '$region': 'Central District',\n",
       "   'distinct_id': 'gilix26@gmail.com',\n",
       "   'doctype_id': '5641c992592090b738bad3e9',\n",
       "   'doctype_title': 'UPLOAD AND SIGN',\n",
       "   'document_id': '5a4299a162818e05008e71cd',\n",
       "   'document_state': 'signing',\n",
       "   'hostname': 'dl-server-769955f5-fxdzw',\n",
       "   'mp_country_code': 'IL',\n",
       "   'msg': 'Document rendering Success',\n",
       "   'render_type': 'html',\n",
       "   'source': 'Elasticsearch',\n",
       "   'time': 1514778364,\n",
       "   'user_id': '56b0de9c68b69c30485739e1'}},\n",
       " {'event': 'view_document',\n",
       "  'properties': {'$city': 'Singapore',\n",
       "   '$import': True,\n",
       "   '$region': 'Central Singapore Community Development Council',\n",
       "   'action': 'READ',\n",
       "   'distinct_id': 'xenia@miningrigclub.com',\n",
       "   'doctype_id': '59ed4f5e28f8c906001a2ae9',\n",
       "   'doctype_title': 'Distribution Agreement',\n",
       "   'document_id': '5a2207dcb19ee906004f7edd',\n",
       "   'document_state': 'draft',\n",
       "   'hdy': 2,\n",
       "   'mp_country_code': 'SG',\n",
       "   'msg': 'User access to Document',\n",
       "   'source': 'Elasticsearch',\n",
       "   'time': 1514778913}},\n",
       " {'event': 'view_document',\n",
       "  'properties': {'$city': 'Central',\n",
       "   '$import': True,\n",
       "   '$region': 'Central and Western District',\n",
       "   'action': 'READ',\n",
       "   'distinct_id': 'catherine.pys@gmail.com',\n",
       "   'doctype_id': '5641c992592090b738bad3e9',\n",
       "   'doctype_title': 'UPLOAD AND SIGN',\n",
       "   'document_id': '5a42dde0be02f306007edac5',\n",
       "   'document_state': 'signed',\n",
       "   'mp_country_code': 'HK',\n",
       "   'msg': 'User access to Document',\n",
       "   'source': 'Elasticsearch',\n",
       "   'time': 1514809238}}]"
      ]
     },
     "execution_count": 8,
     "metadata": {},
     "output_type": "execute_result"
    }
   ],
   "source": [
    "dd"
   ]
  },
  {
   "cell_type": "code",
   "execution_count": 351,
   "metadata": {},
   "outputs": [],
   "source": [
    "s = {'a':{'sa':2}}"
   ]
  },
  {
   "cell_type": "code",
   "execution_count": 356,
   "metadata": {},
   "outputs": [
    {
     "ename": "ValueError",
     "evalue": "not enough values to unpack (expected 2, got 1)",
     "output_type": "error",
     "traceback": [
      "\u001b[0;31m---------------------------------------------------------------------------\u001b[0m",
      "\u001b[0;31mValueError\u001b[0m                                Traceback (most recent call last)",
      "\u001b[0;32m<ipython-input-356-d047214cba24>\u001b[0m in \u001b[0;36m<module>\u001b[0;34m()\u001b[0m\n\u001b[0;32m----> 1\u001b[0;31m \u001b[0;32mfor\u001b[0m \u001b[0mk\u001b[0m\u001b[0;34m,\u001b[0m\u001b[0mv\u001b[0m \u001b[0;32min\u001b[0m \u001b[0ms\u001b[0m\u001b[0;34m:\u001b[0m\u001b[0;34m\u001b[0m\u001b[0m\n\u001b[0m\u001b[1;32m      2\u001b[0m     \u001b[0mprint\u001b[0m\u001b[0;34m(\u001b[0m\u001b[0mk\u001b[0m\u001b[0;34m,\u001b[0m\u001b[0mv\u001b[0m\u001b[0;34m)\u001b[0m\u001b[0;34m\u001b[0m\u001b[0m\n",
      "\u001b[0;31mValueError\u001b[0m: not enough values to unpack (expected 2, got 1)"
     ]
    }
   ],
   "source": [
    "for k,v in s:\n",
    "    print(k,v)"
   ]
  },
  {
   "cell_type": "code",
   "execution_count": 311,
   "metadata": {},
   "outputs": [
    {
     "name": "stdout",
     "output_type": "stream",
     "text": [
      "[1, 2, 3, 2, 3, 2, 3, 2, 3]\n"
     ]
    },
    {
     "data": {
      "text/plain": [
       "{1, 2, 3}"
      ]
     },
     "execution_count": 311,
     "metadata": {},
     "output_type": "execute_result"
    }
   ],
   "source": [
    "s.extend([2,3])\n",
    "print(s)\n",
    "set(s)"
   ]
  },
  {
   "cell_type": "code",
   "execution_count": 230,
   "metadata": {},
   "outputs": [],
   "source": [
    "for list in t:\n",
    "    t[list] = set(t[list])"
   ]
  },
  {
   "cell_type": "code",
   "execution_count": 231,
   "metadata": {},
   "outputs": [
    {
     "data": {
      "text/plain": [
       "{'view_document': {'$city',\n",
       "  '$import',\n",
       "  '$region',\n",
       "  'action',\n",
       "  'distinct_id',\n",
       "  'doctype_id',\n",
       "  'doctype_title',\n",
       "  'document_id',\n",
       "  'document_state',\n",
       "  'mp_country_code',\n",
       "  'msg',\n",
       "  'source',\n",
       "  'time'}}"
      ]
     },
     "execution_count": 231,
     "metadata": {},
     "output_type": "execute_result"
    }
   ],
   "source": [
    "t"
   ]
  },
  {
   "cell_type": "code",
   "execution_count": null,
   "metadata": {},
   "outputs": [],
   "source": []
  }
 ],
 "metadata": {
  "kernelspec": {
   "display_name": "Python 3",
   "language": "python",
   "name": "python3"
  },
  "language_info": {
   "codemirror_mode": {
    "name": "ipython",
    "version": 3
   },
   "file_extension": ".py",
   "mimetype": "text/x-python",
   "name": "python",
   "nbconvert_exporter": "python",
   "pygments_lexer": "ipython3",
   "version": "3.6.4"
  }
 },
 "nbformat": 4,
 "nbformat_minor": 2
}
